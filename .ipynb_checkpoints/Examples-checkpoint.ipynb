{
 "cells": [
  {
   "cell_type": "markdown",
   "id": "a11aeff8-d7d7-4e2b-8edb-d7dcb1eef6ab",
   "metadata": {},
   "source": [
    "## Re-design spans of an antibody sequence\n",
    "For this task, supply\n",
    "1) the sequence to design and associated conditioning tags, \n",
    "2) the start index of the span (0-indexed), \n",
    "3) the end index of the span (0-indexed, exclusive).\n",
    "\n",
    "The following code will generate 100 unique sequences of the anti-tissue factor antibody (1JPT) heavy chain with an IgLM-designed CDR3:"
   ]
  },
  {
   "cell_type": "code",
   "execution_count": 2,
   "id": "dac622dd-3cb9-497d-bc57-dda516344e5f",
   "metadata": {},
   "outputs": [
    {
     "name": "stderr",
     "output_type": "stream",
     "text": [
      "100%|█████████████████████████████████████████| 100/100 [00:08<00:00, 11.19it/s]\n"
     ]
    }
   ],
   "source": [
    "from iglm import IgLM\n",
    "\n",
    "iglm = IgLM()\n",
    "\n",
    "parent_sequence = \"EVQLVESGGGLVQPGGSLRLSCAASGFNIKEYYMHWVRQAPGKGLEWVGLIDPEQGNTIYDPKFQDRATISADNSKNTAYLQMNSLRAEDTAVYYCARDTAAYFDYWGQGTLVTVS\"\n",
    "chain_token = \"[HEAVY]\"\n",
    "species_token = \"[HUMAN]\"\n",
    "infill_range = (98, 106)\n",
    "num_seqs = 100\n",
    "\n",
    "generated_seqs = iglm.infill(\n",
    "    parent_sequence,\n",
    "    chain_token,\n",
    "    species_token,\n",
    "    infill_range=infill_range,\n",
    "    num_to_generate=num_seqs,\n",
    ")"
   ]
  },
  {
   "cell_type": "code",
   "execution_count": null,
   "id": "a7a40c7e-bc8e-41e3-85ae-d4bc0187fff5",
   "metadata": {},
   "outputs": [],
   "source": [
    "generated_seqs"
   ]
  },
  {
   "cell_type": "markdown",
   "id": "28d4cffc-db7b-4d6e-93ee-b53d16ed6cc2",
   "metadata": {},
   "source": [
    "## Full antibody sequence generation\n",
    "IgLM can be used to generate full antibody sequences while conditioning on the chain type and species-of-origin. For this task, supply\n",
    "1) prompt sequence and associated conditioning tags\n",
    "\n",
    "The following code will generate 100 unique human heavy chain sequences starting with EVQ:"
   ]
  },
  {
   "cell_type": "code",
   "execution_count": 3,
   "id": "4f608fd7-65f8-47ae-9b70-7082e7760faa",
   "metadata": {},
   "outputs": [
    {
     "name": "stderr",
     "output_type": "stream",
     "text": [
      "100%|█████████████████████████████████████████| 100/100 [01:19<00:00,  1.25it/s]\n"
     ]
    }
   ],
   "source": [
    "from iglm import IgLM\n",
    "\n",
    "iglm = IgLM()\n",
    "\n",
    "prompt_sequence = \"EVQ\"\n",
    "chain_token = \"[HEAVY]\"\n",
    "species_token = \"[HUMAN]\"\n",
    "num_seqs = 100\n",
    "\n",
    "generated_seqs = iglm.generate(\n",
    "    chain_token,\n",
    "    species_token,\n",
    "    prompt_sequence=prompt_sequence,\n",
    "    num_to_generate=num_seqs\n",
    ")"
   ]
  },
  {
   "cell_type": "markdown",
   "id": "ad15a0d1-a357-44a3-853b-0352f77cb113",
   "metadata": {},
   "source": [
    "## Sequence evaluation\n",
    "IgLM can be used to calculate the log likelihood of a sequence given a chain type and species-of-origin."
   ]
  },
  {
   "cell_type": "markdown",
   "id": "9baa72fb-fc31-401f-a329-6ae470a11a17",
   "metadata": {},
   "source": [
    "### Infilled sequence log likelihood calculation:"
   ]
  },
  {
   "cell_type": "code",
   "execution_count": 4,
   "id": "f91f4124-881a-406b-83bb-5c9814c5165d",
   "metadata": {},
   "outputs": [],
   "source": [
    "import math\n",
    "from iglm import IgLM\n",
    "\n",
    "iglm = IgLM()\n",
    "\n",
    "sequence = \"EVQLVESGGGLVQPGGSLRLSCAASGFNIKEYYMHWVRQAPGKGLEWVGLIDPEQGNTIYDPKFQDRATISADNSKNTAYLQMNSLRAEDTAVYYCARDTAAYFDYWGQGTLVTVS\"\n",
    "chain_token = \"[HEAVY]\"\n",
    "species_token = \"[HUMAN]\"\n",
    "infill_range = (98, 106)\n",
    "\n",
    "log_likelihood = iglm.log_likelihood(\n",
    "    sequence,\n",
    "    chain_token,\n",
    "    species_token,\n",
    "    infill_range=infill_range,\n",
    ")\n",
    "perplexity = math.exp(-log_likelihood)"
   ]
  },
  {
   "cell_type": "code",
   "execution_count": 5,
   "id": "1c17cd7a-40df-44ed-a0e7-66e02d87e9dc",
   "metadata": {},
   "outputs": [
    {
     "name": "stdout",
     "output_type": "stream",
     "text": [
      "-2.0314905643463135 7.6254441070605745\n"
     ]
    }
   ],
   "source": [
    "print(log_likelihood, perplexity)"
   ]
  },
  {
   "cell_type": "markdown",
   "id": "52463fb8-6cc6-4160-a83a-2499ba103ad2",
   "metadata": {},
   "source": [
    "### Full sequence log likelihood calculation:"
   ]
  },
  {
   "cell_type": "code",
   "execution_count": 6,
   "id": "4eccebf8-bb48-438f-9a2c-90a4f1d2c93f",
   "metadata": {},
   "outputs": [],
   "source": [
    "import math\n",
    "from iglm import IgLM\n",
    "\n",
    "iglm = IgLM()\n",
    "\n",
    "sequence = \"EVQLVESGGGLVQPGGSLRLSCAASGFNIKEYYMHWVRQAPGKGLEWVGLIDPEQGNTIYDPKFQDRATISADNSKNTAYLQMNSLRAEDTAVYYCARDTAAYFDYWGQGTLVTVS\"\n",
    "chain_token = \"[HEAVY]\"\n",
    "species_token = \"[HUMAN]\"\n",
    "\n",
    "log_likelihood = iglm.log_likelihood(\n",
    "    sequence,\n",
    "    chain_token,\n",
    "    species_token,\n",
    ")\n",
    "perplexity = math.exp(-log_likelihood)"
   ]
  },
  {
   "cell_type": "code",
   "execution_count": 7,
   "id": "cf6062f9-7784-40b6-8fa1-69136752b7ad",
   "metadata": {},
   "outputs": [
    {
     "name": "stdout",
     "output_type": "stream",
     "text": [
      "-1.1294084787368774 3.093825894955882\n"
     ]
    }
   ],
   "source": [
    "print(log_likelihood, perplexity)"
   ]
  },
  {
   "cell_type": "code",
   "execution_count": null,
   "id": "1f3f040e-b43e-4517-9442-fb4f0b9acd97",
   "metadata": {},
   "outputs": [],
   "source": []
  }
 ],
 "metadata": {
  "kernelspec": {
   "display_name": "Python 3 (ipykernel)",
   "language": "python",
   "name": "python3"
  },
  "language_info": {
   "codemirror_mode": {
    "name": "ipython",
    "version": 3
   },
   "file_extension": ".py",
   "mimetype": "text/x-python",
   "name": "python",
   "nbconvert_exporter": "python",
   "pygments_lexer": "ipython3",
   "version": "3.9.12"
  }
 },
 "nbformat": 4,
 "nbformat_minor": 5
}
